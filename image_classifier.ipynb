{
  "nbformat": 4,
  "nbformat_minor": 0,
  "metadata": {
    "colab": {
      "name": "image_classifier.ipynb",
      "provenance": [],
      "collapsed_sections": [],
      "authorship_tag": "ABX9TyNeOPrWU9vRZbQPUd55Hqeq",
      "include_colab_link": true
    },
    "kernelspec": {
      "name": "python3",
      "display_name": "Python 3"
    },
    "language_info": {
      "name": "python"
    }
  },
  "cells": [
    {
      "cell_type": "markdown",
      "metadata": {
        "id": "view-in-github",
        "colab_type": "text"
      },
      "source": [
        "<a href=\"https://colab.research.google.com/github/romaklym/cnn_image_classfier/blob/master/image_classifier.ipynb\" target=\"_parent\"><img src=\"https://colab.research.google.com/assets/colab-badge.svg\" alt=\"Open In Colab\"/></a>"
      ]
    },
    {
      "cell_type": "code",
      "metadata": {
        "id": "x8vFUrvVkXsb"
      },
      "source": [
        "import tensorflow as tf\n",
        "import os\n",
        "from google.colab import drive\n",
        "import cv2"
      ],
      "execution_count": 2,
      "outputs": []
    },
    {
      "cell_type": "code",
      "metadata": {
        "colab": {
          "base_uri": "https://localhost:8080/"
        },
        "id": "wpT0FZF0kh3c",
        "outputId": "1bba5ff6-19bf-4a49-f4bf-05adb9452070"
      },
      "source": [
        "drive.mount('/content/drive')"
      ],
      "execution_count": 4,
      "outputs": [
        {
          "output_type": "stream",
          "name": "stdout",
          "text": [
            "Drive already mounted at /content/drive; to attempt to forcibly remount, call drive.mount(\"/content/drive\", force_remount=True).\n"
          ]
        }
      ]
    },
    {
      "cell_type": "code",
      "metadata": {
        "colab": {
          "base_uri": "https://localhost:8080/"
        },
        "id": "QuO4Z2OeZ50q",
        "outputId": "ab1243f8-de9f-49f2-9bc5-3b9f4eea1777"
      },
      "source": [
        "!unzip -u \"/content/drive/My Drive/data/train.zip\""
      ],
      "execution_count": 3,
      "outputs": [
        {
          "output_type": "stream",
          "name": "stdout",
          "text": [
            "Archive:  /content/drive/My Drive/data/train.zip\n",
            "   creating: data/\n",
            "  inflating: data/frame10240.jpg     \n",
            "  inflating: data/frame4966.jpg      \n",
            "  inflating: data/frame583.jpg       \n",
            "  inflating: data/frame8184.jpg      \n",
            "  inflating: data/frame6817.jpg      \n",
            "  inflating: data/frame11638.jpg     \n",
            "  inflating: data/frame10526.jpg     \n",
            "  inflating: data/frame10532.jpg     \n",
            "  inflating: data/frame6803.jpg      \n",
            "  inflating: data/frame597.jpg       \n",
            "  inflating: data/frame8190.jpg      \n",
            "  inflating: data/frame10254.jpg     \n",
            "  inflating: data/frame4972.jpg      \n",
            "  inflating: data/frame6195.jpg      \n",
            "  inflating: data/frame1822.jpg      \n",
            "  inflating: data/frame4782.jpg      \n",
            "  inflating: data/frame11162.jpg     \n",
            "  inflating: data/frame2495.jpg      \n",
            "  inflating: data/frame3953.jpg      \n",
            "  inflating: data/frame11604.jpg     \n",
            "  inflating: data/frame8806.jpg      \n",
            "  inflating: data/frame1188.jpg      \n",
            "  inflating: data/frame8812.jpg      \n",
            "  inflating: data/frame2481.jpg      \n",
            "  inflating: data/frame3947.jpg      \n",
            "  inflating: data/frame11610.jpg     \n",
            "  inflating: data/frame10268.jpg     \n",
            "  inflating: data/frame4796.jpg      \n",
            "  inflating: data/frame5488.jpg      \n",
            "  inflating: data/frame11176.jpg     \n",
            "  inflating: data/frame6181.jpg      \n",
            "  inflating: data/frame1836.jpg      \n",
            "  inflating: data/frame8147.jpg      \n",
            "  inflating: data/frame7274.jpg      \n",
            "  inflating: data/frame1605.jpg      \n",
            "  inflating: data/frame540.jpg       \n",
            "  inflating: data/frame9259.jpg      \n",
            "  inflating: data/frame5463.jpg      \n",
            "  inflating: data/frame3012.jpg      \n",
            "  inflating: data/frame10283.jpg     \n",
            "  inflating: data/frame3774.jpg      \n",
            "  inflating: data/frame5305.jpg      \n",
            "  inflating: data/frame1163.jpg      \n",
            "  inflating: data/frame226.jpg       \n",
            "  inflating: data/frame8621.jpg      \n",
            "  inflating: data/frame7512.jpg      \n",
            "  inflating: data/frame6618.jpg      \n",
            "  inflating: data/frame232.jpg       \n",
            "  inflating: data/frame1177.jpg      \n",
            "  inflating: data/frame8635.jpg      \n",
            "  inflating: data/frame7506.jpg      \n",
            "  inflating: data/frame3760.jpg      \n",
            "  inflating: data/frame5311.jpg      \n",
            "  inflating: data/frame5477.jpg      \n",
            "  inflating: data/frame11189.jpg     \n",
            "  inflating: data/frame2318.jpg      \n",
            "  inflating: data/frame3006.jpg      \n",
            "  inflating: data/frame10297.jpg     \n",
            "  inflating: data/frame4769.jpg      \n",
            "  inflating: data/frame8153.jpg      \n",
            "  inflating: data/frame7260.jpg      \n",
            "  inflating: data/frame554.jpg       \n",
            "  inflating: data/frame1611.jpg      \n",
            "  inflating: data/frame2330.jpg      \n",
            "  inflating: data/frame4999.jpg      \n",
            "  inflating: data/frame4741.jpg      \n",
            "  inflating: data/frame7248.jpg      \n",
            "  inflating: data/frame1639.jpg      \n",
            "  inflating: data/frame6156.jpg      \n",
            "  inflating: data/frame9265.jpg      \n",
            "  inflating: data/frame6630.jpg      \n",
            "  inflating: data/frame9503.jpg      \n",
            "  inflating: data/frame4027.jpg      \n",
            "  inflating: data/frame3748.jpg      \n",
            "  inflating: data/frame2456.jpg      \n",
            "  inflating: data/frame3990.jpg      \n",
            "  inflating: data/frame5339.jpg      \n",
            "  inflating: data/frame4033.jpg      \n",
            "  inflating: data/frame2442.jpg      \n",
            "  inflating: data/frame3984.jpg      \n",
            "  inflating: data/frame6624.jpg      \n",
            "  inflating: data/frame9517.jpg      \n",
            "  inflating: data/frame8609.jpg      \n",
            "  inflating: data/frame568.jpg       \n",
            "  inflating: data/frame6142.jpg      \n",
            "  inflating: data/frame9271.jpg      \n",
            "  inflating: data/frame2324.jpg      \n",
            "  inflating: data/frame4755.jpg      \n",
            "  inflating: data/frame2873.jpg      \n",
            "  inflating: data/frame10724.jpg     \n",
            "  inflating: data/frame9926.jpg      \n",
            "  inflating: data/frame959.jpg       \n",
            "  inflating: data/frame8386.jpg      \n",
            "  inflating: data/frame9098.jpg      \n",
            "  inflating: data/frame781.jpg       \n",
            "  inflating: data/frame10042.jpg     \n",
            "  inflating: data/frame11348.jpg     \n",
            "  inflating: data/frame10056.jpg     \n",
            "  inflating: data/frame8392.jpg      \n",
            "  inflating: data/frame795.jpg       \n",
            "  inflating: data/frame9932.jpg      \n",
            "  inflating: data/frame2867.jpg      \n",
            "  inflating: data/frame10730.jpg     \n",
            "  inflating: data/frame7937.jpg      \n",
            "  inflating: data/frame3589.jpg      \n",
            "  inflating: data/frame10718.jpg     \n",
            "  inflating: data/frame11406.jpg     \n",
            "  inflating: data/frame2697.jpg      \n",
            "  inflating: data/frame11360.jpg     \n",
            "  inflating: data/frame4580.jpg      \n",
            "  inflating: data/frame5846.jpg      \n",
            "  inflating: data/frame965.jpg       \n",
            "  inflating: data/frame7089.jpg      \n",
            "  inflating: data/frame6397.jpg      \n",
            "  inflating: data/frame971.jpg       \n",
            "  inflating: data/frame6383.jpg      \n",
            "  inflating: data/frame11374.jpg     \n",
            "  inflating: data/frame4594.jpg      \n",
            "  inflating: data/frame5852.jpg      \n",
            "  inflating: data/frame11412.jpg     \n",
            "  inflating: data/frame2683.jpg      \n",
            "  inflating: data/frame7923.jpg      \n",
            "  inflating: data/frame7710.jpg      \n",
            "  inflating: data/frame8423.jpg      \n",
            "  inflating: data/frame1361.jpg      \n",
            "  inflating: data/frame5107.jpg      \n",
            "  inflating: data/frame2668.jpg      \n",
            "  inflating: data/frame3576.jpg      \n",
            "  inflating: data/frame4219.jpg      \n",
            "  inflating: data/frame10081.jpg     \n",
            "  inflating: data/frame3210.jpg      \n",
            "  inflating: data/frame5661.jpg      \n",
            "  inflating: data/frame6368.jpg      \n",
            "  inflating: data/frame1407.jpg      \n",
            "  inflating: data/frame742.jpg       \n",
            "  inflating: data/frame7076.jpg      \n",
            "  inflating: data/frame8345.jpg      \n",
            "  inflating: data/frame756.jpg       \n",
            "  inflating: data/frame1413.jpg      \n",
            "  inflating: data/frame7062.jpg      \n",
            "  inflating: data/frame8351.jpg      \n",
            "  inflating: data/frame10095.jpg     \n",
            "  inflating: data/frame3204.jpg      \n",
            "  inflating: data/frame5675.jpg      \n",
            "  inflating: data/frame5113.jpg      \n",
            "  inflating: data/frame3562.jpg      \n",
            "  inflating: data/frame7704.jpg      \n",
            "  inflating: data/frame8437.jpg      \n",
            "  inflating: data/frame1375.jpg      \n",
            "  inflating: data/frame9729.jpg      \n",
            "  inflating: data/frame10903.jpg     \n",
            "  inflating: data/frame2654.jpg      \n",
            "  inflating: data/frame4225.jpg      \n",
            "  inflating: data/frame9701.jpg      \n",
            "  inflating: data/frame6432.jpg      \n",
            "  inflating: data/frame9067.jpg      \n",
            "  inflating: data/frame6354.jpg      \n",
            "  inflating: data/frame8379.jpg      \n",
            "  inflating: data/frame4543.jpg      \n",
            "  inflating: data/frame5885.jpg      \n",
            "  inflating: data/frame2132.jpg      \n",
            "  inflating: data/frame4557.jpg      \n",
            "  inflating: data/frame5891.jpg      \n",
            "  inflating: data/frame3238.jpg      \n",
            "  inflating: data/frame2126.jpg      \n",
            "  inflating: data/frame5649.jpg      \n",
            "  inflating: data/frame9073.jpg      \n",
            "  inflating: data/frame6340.jpg      \n",
            "  inflating: data/frame7738.jpg      \n",
            "  inflating: data/frame1349.jpg      \n",
            "  inflating: data/frame9715.jpg      \n",
            "  inflating: data/frame6426.jpg      \n",
            "  inflating: data/frame10917.jpg     \n",
            "  inflating: data/frame2640.jpg      \n",
            "  inflating: data/frame4231.jpg      \n",
            "  inflating: data/frame2898.jpg      \n",
            "  inflating: data/frame10888.jpg     \n",
            "  inflating: data/frame2907.jpg      \n",
            "  inflating: data/frame10650.jpg     \n",
            "  inflating: data/frame9852.jpg      \n",
            "  inflating: data/frame8594.jpg      \n",
            "  inflating: data/frame193.jpg       \n",
            "  inflating: data/frame10136.jpg     \n",
            "  inflating: data/frame11228.jpg     \n",
            "  inflating: data/frame10122.jpg     \n",
            "  inflating: data/frame839.jpg       \n",
            "  inflating: data/frame9846.jpg      \n",
            "  inflating: data/frame8580.jpg      \n",
            "  inflating: data/frame187.jpg       \n",
            "  inflating: data/frame2913.jpg      \n",
            "  inflating: data/frame10644.jpg     \n",
            "  inflating: data/frame6585.jpg      \n",
            "  inflating: data/frame7843.jpg      \n",
            "  inflating: data/frame11572.jpg     \n",
            "  inflating: data/frame4392.jpg      \n",
            "  inflating: data/frame5932.jpg      \n",
            "  inflating: data/frame11214.jpg     \n",
            "  inflating: data/frame2085.jpg      \n",
            "  inflating: data/frame85.jpg        \n",
            "  inflating: data/frame811.jpg       \n",
            "  inflating: data/frame1598.jpg      \n",
            "  inflating: data/frame91.jpg        \n",
            "  inflating: data/frame805.jpg       \n",
            "  inflating: data/frame5926.jpg      \n",
            "  inflating: data/frame11200.jpg     \n",
            "  inflating: data/frame2091.jpg      "
          ]
        }
      ]
    },
    {
      "cell_type": "code",
      "metadata": {
        "id": "TRYPB5dkbJD7"
      },
      "source": [
        "base_dir = '/content/tensor'"
      ],
      "execution_count": 5,
      "outputs": []
    },
    {
      "cell_type": "code",
      "metadata": {
        "id": "eq0uO5Aqbgo9"
      },
      "source": [
        "IMAGE_SIZE = 224\n",
        "BATCH_SIZE = 64\n",
        "\n",
        "datagen = tf.keras.preprocessing.image.ImageDataGenerator(\n",
        "    rescale=1./255,\n",
        "    validation_split=0.2\n",
        ")"
      ],
      "execution_count": 6,
      "outputs": []
    },
    {
      "cell_type": "code",
      "metadata": {
        "colab": {
          "base_uri": "https://localhost:8080/"
        },
        "id": "MwUeXvDcbiP_",
        "outputId": "8c805c64-c37c-4103-999a-9bfcfa22aafd"
      },
      "source": [
        "train_generator = datagen.flow_from_directory(\n",
        "    base_dir,\n",
        "    target_size=(IMAGE_SIZE, IMAGE_SIZE),\n",
        "    batch_size=BATCH_SIZE,\n",
        "    #color_mode='rgb',\n",
        "    subset='training'\n",
        ")\n",
        "\n",
        "val_generator = datagen.flow_from_directory(\n",
        "    base_dir,\n",
        "    target_size=(IMAGE_SIZE, IMAGE_SIZE),\n",
        "    batch_size=BATCH_SIZE,\n",
        "    subset='validation'\n",
        ")"
      ],
      "execution_count": 7,
      "outputs": [
        {
          "output_type": "stream",
          "name": "stdout",
          "text": [
            "Found 9348 images belonging to 1 classes.\n",
            "Found 2337 images belonging to 1 classes.\n"
          ]
        }
      ]
    },
    {
      "cell_type": "code",
      "metadata": {
        "colab": {
          "base_uri": "https://localhost:8080/"
        },
        "id": "jzYgrhA6eNH7",
        "outputId": "ab247630-a2c4-4c69-c532-2bdf5babd365"
      },
      "source": [
        "print(train_generator.class_indices)\n",
        "labels = '\\n'.join(sorted(\n",
        "    train_generator.class_indices.keys()))\n",
        "\n",
        "with open('/content/tensor/labels.txt', 'w') as f:\n",
        "    f.write(labels)\n",
        "\n",
        "IMG_SHAPE = (IMAGE_SIZE, IMAGE_SIZE, 3)\n",
        "base_model = tf.keras.applications.MobileNetV2(\n",
        "    input_shape=IMG_SHAPE,\n",
        "    include_top=False,\n",
        ")"
      ],
      "execution_count": 13,
      "outputs": [
        {
          "output_type": "stream",
          "name": "stdout",
          "text": [
            "{'data': 0}\n"
          ]
        }
      ]
    },
    {
      "cell_type": "code",
      "metadata": {
        "id": "bkhDwM5aeZb3"
      },
      "source": [
        "base_model.trainable = False\n",
        "model = tf.keras.Sequential([\n",
        "    base_model,\n",
        "    tf.keras.layers.Conv2D(32, 3, activation='relu'),\n",
        "    tf.keras.layers.Dropout(0.2),\n",
        "    tf.keras.layers.GlobalAveragePooling2D(),\n",
        "    tf.keras.layers.Dense(1, activation='softmax')\n",
        "])\n",
        "\n",
        "model.compile(\n",
        "    optimizer=tf.keras.optimizers.Adam(),\n",
        "    loss='categorical_crossentropy',\n",
        "    metrics=['accuracy']\n",
        ")"
      ],
      "execution_count": 9,
      "outputs": []
    },
    {
      "cell_type": "code",
      "metadata": {
        "colab": {
          "base_uri": "https://localhost:8080/"
        },
        "id": "H8KHxBJ3eeri",
        "outputId": "e4dac680-63ae-49f3-e9fb-018ab08366a3"
      },
      "source": [
        "epochs = 1\n",
        "history = model.fit(\n",
        "    train_generator,\n",
        "    epochs=epochs,\n",
        "    validation_data=val_generator\n",
        ")\n",
        "\n",
        "saved_model_dir = ''\n",
        "tf.saved_model.save(model, saved_model_dir)"
      ],
      "execution_count": 10,
      "outputs": [
        {
          "output_type": "stream",
          "name": "stdout",
          "text": [
            "147/147 [==============================] - 707s 5s/step - loss: 0.0000e+00 - accuracy: 1.0000 - val_loss: 0.0000e+00 - val_accuracy: 1.0000\n"
          ]
        },
        {
          "output_type": "stream",
          "name": "stderr",
          "text": [
            "WARNING:absl:Function `_wrapped_model` contains input name(s) mobilenetv2_1.00_224_input with unsupported characters which will be renamed to mobilenetv2_1_00_224_input in the SavedModel.\n"
          ]
        },
        {
          "output_type": "stream",
          "name": "stdout",
          "text": [
            "INFO:tensorflow:Assets written to: assets\n"
          ]
        },
        {
          "output_type": "stream",
          "name": "stderr",
          "text": [
            "INFO:tensorflow:Assets written to: assets\n"
          ]
        }
      ]
    },
    {
      "cell_type": "code",
      "metadata": {
        "id": "Kr26EbtertDt"
      },
      "source": [
        "converter = tf.lite.TFLiteConverter.from_saved_model(saved_model_dir)\n",
        "tflite_model = converter.convert()\n",
        "\n",
        "with open('/content/tensor/model.tflite', 'wb') as f:\n",
        "    f.write(tflite_model)"
      ],
      "execution_count": 12,
      "outputs": []
    }
  ]
}